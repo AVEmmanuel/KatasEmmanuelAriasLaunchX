{
 "cells": [
  {
   "cell_type": "markdown",
   "metadata": {},
   "source": [
    "\n",
    "Ejercicio 1: Trabajar con argumentos en funciones\n",
    "\n",
    "by Emmanuel Arias\n",
    "\n",
    "Los argumentos requeridos en las funciones se utilizan cuando las funciones necesitan que esos argumentos funcionen correctamente. En este ejercicio, construirás un informe de combustible que requiere información de varias ubicaciones de combustible en todo el cohete.\n"
   ]
  },
  {
   "cell_type": "code",
   "execution_count": 36,
   "metadata": {},
   "outputs": [
    {
     "name": "stdout",
     "output_type": "stream",
     "text": [
      "Average: 80.0 %\n",
      " tank1: 80%\n",
      " tank2: 70%\n",
      " tank3: 90%\n"
     ]
    }
   ],
   "source": [
    "def Tank_report(tank1, tank2,tank3):\n",
    "    Avr = ((tank1+tank2+tank3)/3)\n",
    "    return(f\"Average: {Avr} %\\n tank1: {tank1}%\\n tank2: {tank2}%\\n tank3: {tank3}%\")\n",
    "\n",
    "print(Tank_report(80,70,90))"
   ]
  },
  {
   "cell_type": "code",
   "execution_count": 37,
   "metadata": {},
   "outputs": [],
   "source": [
    "def Avr(values):\n",
    "    total_avr = sum(values)/(len(values))\n",
    "    return total_avr"
   ]
  },
  {
   "cell_type": "code",
   "execution_count": 38,
   "metadata": {},
   "outputs": [
    {
     "name": "stdout",
     "output_type": "stream",
     "text": [
      "Average: 80.0 %\n",
      " tank1: 80%\n",
      " tank2: 70%\n",
      " tank3: 90%\n"
     ]
    }
   ],
   "source": [
    "def Tank_report(tank1, tank2,tank3):\n",
    "    \n",
    "    return(f\"Average: {Avr([tank1,tank2,tank3])} %\\n tank1: {tank1}%\\n tank2: {tank2}%\\n tank3: {tank3}%\")\n",
    "\n",
    "print(Tank_report(80,70,90))"
   ]
  },
  {
   "cell_type": "markdown",
   "metadata": {},
   "source": [
    "\n",
    "Ejercicio : Trabajar con argumentos de palabras clave en funciones\n",
    "\n",
    "En este ejercicio, construirás un informe de cohete que requiere varias piezas de información, como el tiempo hasta el destino, el combustible a la izquierda y el nombre del destino. Comienza por crear una función que creará un informe preciso de la misión:\n"
   ]
  },
  {
   "cell_type": "code",
   "execution_count": 39,
   "metadata": {},
   "outputs": [
    {
     "name": "stdout",
     "output_type": "stream",
     "text": [
      " Destination: Moon\n",
      " Total Travel Time: 65 munutes\n",
      " Total fuel left: 500000 gallons\n",
      "None\n"
     ]
    }
   ],
   "source": [
    "def M_report(pre_launch_time, flight_time, destination, external_tank, main_tank):\n",
    "    return print(f\" Destination: {destination}\\n Total Travel Time: {pre_launch_time+flight_time} munutes\\n Total fuel left: {external_tank+main_tank} gallons\")\n",
    "\n",
    "print(M_report(14, 51, \"Moon\", 200000, 300000))"
   ]
  },
  {
   "cell_type": "code",
   "execution_count": 40,
   "metadata": {},
   "outputs": [
    {
     "name": "stdout",
     "output_type": "stream",
     "text": [
      " Destination: Moon\n",
      " Total Travel Time: 76 munutes\n",
      " Total fuel left: 500000 gallons\n",
      "None\n"
     ]
    }
   ],
   "source": [
    "def m_report(destination, *min, **fuel):\n",
    "    return print(f\" Destination: {destination}\\n Total Travel Time: {sum(min)} munutes\\n Total fuel left: {sum(fuel.values())} gallons\")\n",
    "\n",
    "print(m_report(\"Moon\", 10, 15, 51, main=300000, external=200000))\n",
    "\n",
    "\n"
   ]
  },
  {
   "cell_type": "code",
   "execution_count": 41,
   "metadata": {},
   "outputs": [
    {
     "name": "stdout",
     "output_type": "stream",
     "text": [
      " Mission to Moon\n",
      "    Total travel time: 74 minutes\n",
      "    Total fuel left: 500000\n",
      "    main tank --> 300000 gallons left\n",
      "external tank --> 200000 gallons left\n",
      "\n"
     ]
    }
   ],
   "source": [
    "def m_Report(Destination, *Min, **Fuel):\n",
    "    mReport = f\"\"\" Mission to {Destination}\n",
    "    Total travel time: {sum(Min)} minutes\n",
    "    Total fuel left: {sum(Fuel.values())}\n",
    "    \"\"\"\n",
    "    for tank_name, gallons in Fuel.items():\n",
    "            mReport += f\"{tank_name} tank --> {gallons} gallons left\\n\"\n",
    "    return mReport\n",
    "\n",
    "print(m_Report(\"Moon\", 8, 11, 55, main=300000, external=200000))"
   ]
  }
 ],
 "metadata": {
  "interpreter": {
   "hash": "916dbcbb3f70747c44a77c7bcd40155683ae19c65e1c03b4aa3499c5328201f1"
  },
  "kernelspec": {
   "display_name": "Python 3.9.7 64-bit",
   "language": "python",
   "name": "python3"
  },
  "language_info": {
   "codemirror_mode": {
    "name": "ipython",
    "version": 3
   },
   "file_extension": ".py",
   "mimetype": "text/x-python",
   "name": "python",
   "nbconvert_exporter": "python",
   "pygments_lexer": "ipython3",
   "version": "3.9.7"
  },
  "orig_nbformat": 4
 },
 "nbformat": 4,
 "nbformat_minor": 2
}
