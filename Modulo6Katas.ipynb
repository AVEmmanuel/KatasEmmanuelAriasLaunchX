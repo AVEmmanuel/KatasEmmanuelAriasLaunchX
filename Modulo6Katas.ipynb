{
 "cells": [
  {
   "cell_type": "markdown",
   "metadata": {},
   "source": [
    "\n",
    "Ejercicio1: Crear y usar listas de Python\n",
    "by Emmanuel Arias"
   ]
  },
  {
   "cell_type": "code",
   "execution_count": 10,
   "metadata": {},
   "outputs": [
    {
     "name": "stdout",
     "output_type": "stream",
     "text": [
      "['Mercury', 'Venus', 'Earth', 'Mars', 'Jupiter', 'Saturn', 'Uranus', 'Neptune']\n",
      "number of planets : 8\n",
      "['Mercury', 'Venus', 'Earth', 'Mars', 'Jupiter', 'Saturn', 'Uranus', 'Neptune', 'Pluto']\n",
      "number of planets with Pluto counting: 9\n"
     ]
    }
   ],
   "source": [
    "planets = ['Mercury', 'Venus', 'Earth', 'Mars', 'Jupiter', 'Saturn', 'Uranus', 'Neptune']\n",
    "print(planets)\n",
    "print(f'number of planets : {len(planets)}')\n",
    "\n",
    "planets.append('Pluto')\n",
    "print(planets)\n",
    "print(f'number of planets with Pluto counting: {len(planets)}')"
   ]
  },
  {
   "cell_type": "markdown",
   "metadata": {},
   "source": [
    "\n",
    "Ejercicio 2: Trabajando con datos de una lista"
   ]
  },
  {
   "cell_type": "code",
   "execution_count": 11,
   "metadata": {},
   "outputs": [
    {
     "name": "stdout",
     "output_type": "stream",
     "text": [
      "el planeta Neptune se encuentra en la lista! \n",
      "estos son los planetas mas cercanos al sol a comparacion con el tuyo: ['Mercury', 'Venus', 'Earth', 'Mars', 'Jupiter', 'Saturn', 'Uranus']\n"
     ]
    }
   ],
   "source": [
    "Planet_name = input(\"Dame el nombre de un plantea\")\n",
    "PlanetN = Planet_name.capitalize()\n",
    "\n",
    "if(PlanetN in planets):\n",
    "    index = planets.index(PlanetN)\n",
    "    print(f'el planeta {PlanetN} se encuentra en la lista! ')\n",
    "    print(f'estos son los planetas mas cercanos al sol a comparacion con el tuyo: {planets[0:index]}')\n",
    "    \n",
    "else:\n",
    "    print(f'el planeta {PlanetN} NO se encuentra en la lista! ')"
   ]
  }
 ],
 "metadata": {
  "interpreter": {
   "hash": "916dbcbb3f70747c44a77c7bcd40155683ae19c65e1c03b4aa3499c5328201f1"
  },
  "kernelspec": {
   "display_name": "Python 3.9.5 64-bit",
   "language": "python",
   "name": "python3"
  },
  "language_info": {
   "codemirror_mode": {
    "name": "ipython",
    "version": 3
   },
   "file_extension": ".py",
   "mimetype": "text/x-python",
   "name": "python",
   "nbconvert_exporter": "python",
   "pygments_lexer": "ipython3",
   "version": "3.9.7"
  },
  "orig_nbformat": 4
 },
 "nbformat": 4,
 "nbformat_minor": 2
}
