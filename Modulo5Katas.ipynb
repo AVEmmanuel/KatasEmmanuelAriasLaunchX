{
 "cells": [
  {
   "cell_type": "markdown",
   "metadata": {},
   "source": [
    "Ejercicio1 - Utilizar operadores aritméticos\n",
    "by Emmanuel Arias"
   ]
  },
  {
   "cell_type": "code",
   "execution_count": 5,
   "metadata": {},
   "outputs": [
    {
     "name": "stdout",
     "output_type": "stream",
     "text": [
      "la distancia entre el Primer planeta y el Segundo planeta es de: 628949330 km\n",
      "la distancia entre el Primer planeta y el Segundo planeta es de: 390810874.13143003 millas\n"
     ]
    }
   ],
   "source": [
    "#valores en km\n",
    "PlanetaUno = 149597870 #Tierra\n",
    "PlanetaDos = 778547200 #Jupiter\n",
    "\n",
    "distanciaEntrePlanetasKm = abs(PlanetaDos-PlanetaUno)\n",
    "print(f'la distancia entre el Primer planeta y el Segundo planeta es de: {distanciaEntrePlanetasKm} km')\n",
    "\n",
    "distanciaEntrePlanetasMillas = (distanciaEntrePlanetasKm*0.621371)\n",
    "print(f'la distancia entre el Primer planeta y el Segundo planeta es de: {distanciaEntrePlanetasMillas} millas')\n"
   ]
  },
  {
   "cell_type": "markdown",
   "metadata": {},
   "source": [
    "Ejercicio 2: convierte cadenas en números y usa valores absolutos"
   ]
  },
  {
   "cell_type": "code",
   "execution_count": 6,
   "metadata": {},
   "outputs": [
    {
     "name": "stdout",
     "output_type": "stream",
     "text": [
      "The Distance in Km is: 1\n",
      "The Distance in Milles is: 0.621371\n"
     ]
    }
   ],
   "source": [
    "PlanetOne =int(input(\"Distance of the first planet on km: \"))\n",
    "PlanetTwo = int(input(\"Distance of the second planet on km: \"))\n",
    "\n",
    "Distance = abs(PlanetOne-PlanetTwo)\n",
    "print(f'The Distance in Km is: {Distance}')\n",
    "\n",
    "milles = Distance * 0.621371\n",
    "\n",
    "print(f'The Distance in Milles is: {milles}')"
   ]
  }
 ],
 "metadata": {
  "interpreter": {
   "hash": "916dbcbb3f70747c44a77c7bcd40155683ae19c65e1c03b4aa3499c5328201f1"
  },
  "kernelspec": {
   "display_name": "Python 3.9.5 64-bit",
   "language": "python",
   "name": "python3"
  },
  "language_info": {
   "codemirror_mode": {
    "name": "ipython",
    "version": 3
   },
   "file_extension": ".py",
   "mimetype": "text/x-python",
   "name": "python",
   "nbconvert_exporter": "python",
   "pygments_lexer": "ipython3",
   "version": "3.9.7"
  },
  "orig_nbformat": 4
 },
 "nbformat": 4,
 "nbformat_minor": 2
}
